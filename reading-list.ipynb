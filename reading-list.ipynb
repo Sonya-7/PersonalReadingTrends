{
 "cells": [
  {
   "cell_type": "code",
   "execution_count": null,
   "id": "5c9763d9",
   "metadata": {
    "execution": {
     "iopub.execute_input": "2022-12-31T23:31:15.365275Z",
     "iopub.status.busy": "2022-12-31T23:31:15.364186Z",
     "iopub.status.idle": "2022-12-31T23:31:15.442948Z",
     "shell.execute_reply": "2022-12-31T23:31:15.441954Z"
    },
    "papermill": {
     "duration": 0.086673,
     "end_time": "2022-12-31T23:31:15.445414",
     "exception": false,
     "start_time": "2022-12-31T23:31:15.358741",
     "status": "completed"
    },
    "tags": []
   },
   "outputs": [],
   "source": [
    "# IMPORT PACKAGES FOR PROJECT\n",
    "\n",
    "# !pip install wordcloud, pandas, matplotlib, PIL\n",
    "from wordcloud import WordCloud, STOPWORDS\n",
    "import pandas as pd\n",
    "import matplotlib.pyplot as plt\n",
    "import requests\n",
    "from bs4 import BeautifulSoup"
   ]
  },
  {
   "cell_type": "code",
   "execution_count": null,
   "id": "ea9c9ddd",
   "metadata": {},
   "outputs": [],
   "source": [
    "# Define Function to calculate the number of days in a year\n",
    "def days_in_year(year):\n",
    "    if year % 4 == 0:\n",
    "        if year % 100 == 0:\n",
    "            if year % 400 == 0:\n",
    "                return 366\n",
    "            else:\n",
    "                return 365\n",
    "        else:\n",
    "            return 366\n",
    "    else:\n",
    "        return 365"
   ]
  },
  {
   "cell_type": "code",
   "execution_count": null,
   "id": "e27f1493",
   "metadata": {},
   "outputs": [],
   "source": [
    "# Define function to extract text befor delimiter\n",
    "def extract_delim(names):\n",
    "    results = []\n",
    "    delimiters = {':', ';', '!'}\n",
    "    for name in names:\n",
    "        for delimiter in delimiters:\n",
    "            if delimiter in name:\n",
    "                result = name.split(delimiter, 1)[0].strip()\n",
    "                results.append(result)\n",
    "                break\n",
    "        else:\n",
    "            results.append(name)\n",
    "    return results"
   ]
  },
  {
   "cell_type": "code",
   "execution_count": null,
   "id": "d1de1125",
   "metadata": {},
   "outputs": [],
   "source": [
    "# define function to get book summary\n",
    "def get_book_summaries(book_titles):\n",
    "    summaries = []\n",
    "    for book_title in book_titles:\n",
    "        try:\n",
    "            # Amazon\n",
    "            amazon_url = f\"https://www.amazon.com/s?k={book_title}\"\n",
    "            response = requests.get(amazon_url)\n",
    "            soup = BeautifulSoup(response.content, 'html.parser')\n",
    "            search_results = soup.find_all('div', {'data-component-type': 's-search-result'})\n",
    "            if len(search_results) == 0:\n",
    "                amazon_summary = f\"No results found for '{book_title}' on Amazon.\"\n",
    "            else:\n",
    "                top_result = search_results[0]\n",
    "                book_url = \"https://www.amazon.com\" + top_result.find('a', {'class': 'a-link-normal'})['href']\n",
    "                response = requests.get(book_url)\n",
    "                soup = BeautifulSoup(response.content, 'html.parser')\n",
    "                amazon_summary = soup.find('div', {'id': 'bookDescription_feature_div'}).find('noscript').get_text().strip()\n",
    "        except:\n",
    "            amazon_summary = f\"Error getting summary for '{book_title}' on Amazon.\"\n",
    "\n",
    "        try:\n",
    "            # Wikipedia\n",
    "            wikipedia_url = f\"https://en.wikipedia.org/wiki/{book_title.replace(' ', '_')}\"\n",
    "            response = requests.get(wikipedia_url)\n",
    "            soup = BeautifulSoup(response.content, 'html.parser')\n",
    "            wikipedia_summary = soup.find('div', {'class': 'mw-parser-output'}).find_all('p')[0].get_text().strip()\n",
    "        except:\n",
    "            wikipedia_summary = f\"Error getting summary for '{book_title}' on Wikipedia.\"\n",
    "\n",
    "        try:\n",
    "            # Goodreads\n",
    "            goodreads_url = f\"https://www.goodreads.com/search?q={book_title}\"\n",
    "            response = requests.get(goodreads_url)\n",
    "            soup = BeautifulSoup(response.content, 'html.parser')\n",
    "            search_results = soup.find_all('tr', {'itemtype': 'http://schema.org/Book'})\n",
    "            if len(search_results) == 0:\n",
    "                goodreads_summary = f\"No results found for '{book_title}' on Goodreads.\"\n",
    "            else:\n",
    "                top_result = search_results[0]\n",
    "                book_url = top_result.find('a', {'class': 'bookTitle'})['href']\n",
    "                response = requests.get(book_url)\n",
    "                soup = BeautifulSoup(response.content, 'html.parser')\n",
    "                goodreads_summary = soup.find('div', {'id': 'description'}).find_all('span')[1].get_text().strip()\n",
    "        except:\n",
    "            goodreads_summary = f\"Error getting summary for '{book_title}' on Goodreads.\"\n",
    "\n",
    "        summaries.append({\n",
    "            'book_title': book_title,\n",
    "            'Amazon': amazon_summary,\n",
    "            'Wikipedia': wikipedia_summary,\n",
    "            'Goodreads': goodreads_summary\n",
    "        })\n",
    "\n",
    "    return summaries"
   ]
  },
  {
   "cell_type": "code",
   "execution_count": null,
   "id": "e05f985b",
   "metadata": {
    "execution": {
     "iopub.execute_input": "2022-12-31T23:31:15.453021Z",
     "iopub.status.busy": "2022-12-31T23:31:15.452746Z",
     "iopub.status.idle": "2022-12-31T23:31:15.461830Z",
     "shell.execute_reply": "2022-12-31T23:31:15.460761Z"
    },
    "papermill": {
     "duration": 0.015414,
     "end_time": "2022-12-31T23:31:15.464015",
     "exception": false,
     "start_time": "2022-12-31T23:31:15.448601",
     "status": "completed"
    },
    "tags": []
   },
   "outputs": [],
   "source": [
    "book_list2021 = {1:{'Name':\"The richest man in Babylon\", 'Author':\"George S. Clason\", 'Pages':224, 'Format': \"Print\"}\n",
    "                 , 2:{'Name':\"The slight edge\", 'Author':\"Jeff Olson\", 'Pages':280, 'Format': \"Print\"}\n",
    "                 , 3:{'Name':\"Intermittent fasting basics\", 'Author':\"Lindsay Boyers\", 'Pages':219, 'Format': \"Print\"}\n",
    "                 , 4:{'Name':\"The one thing\", 'Author':\"Gary Keller\", 'Pages':240, 'Format': \"Print\"}\n",
    "                 , 5:{'Name':\"Who moved my cheese\", 'Author':\"Spencer Johnson\", 'Pages':94, 'Format': \"Print\"}\n",
    "                 , 6:{'Name':\"Think and grow rich\", 'Author':\"Napoleon Hill\", 'Pages':290, 'Format': \"Ebook\"}\n",
    "                 , 7:{'Name':\"Outwitting the devil: The secret to freedom and success\", 'Author':\"Napoleon Hill\", 'Pages':302, 'Format': \"Ebook\"}\n",
    "                 , 8:{'Name':\"The four agreements\", 'Author':\"Don Miquel Ruiz\", 'Pages':140, 'Format': \"Print\"}\n",
    "                 , 9:{'Name':\"Atomic habits: an easy and proven way to build good habits and break bad ones\", 'Author':\"James Clear\", 'Pages':298, 'Format': \"Print\"}\n",
    "                 , 10:{'Name':\"How to win friends and influence people\", 'Author':\"Dale Carnegie\", 'Pages':250, 'Format': \"Print\"}\n",
    "                 , 11:{'Name':\"Trading in the zone: master the market with confidence, discipline and a winning attitude\", 'Author':\"Mark Douglas\", 'Pages':207, 'Format': \"Print\"}\n",
    "                 , 12:{'Name':\"Stone soup\", 'Author':\"Marcia Brown\", 'Pages':52, 'Format': \"Print\"}\n",
    "                 , 13:{'Name':\"Rich dad's cashflow quadrant\", 'Author':\"Robert T. Kiyosaki\", 'Pages':282, 'Format': \"Ebook\"}\n",
    "                 , 14:{'Name':\"A beginners guide to the stock market\", 'Author':\"Mathew R. Kratter\", 'Pages':100, 'Format': \"Ebook\"}\n",
    "                 , 15:{'Name':\"Credit spread options for beginners: turn your most boring stocks into reliable monthly paychecks using call, put & iron butterfly spreads - even if the market is doing nothing\", 'Author':\"Freeman Publications\", 'Pages':134, 'Format': \"Ebook\"}\n",
    "                 , 16:{'Name':\"Heart sick: Connecting the dots between hope, disappointment and healing\", 'Author':\"Conscious Core\", 'Pages':107, 'Format': \"Ebook\"}\n",
    "                 , 17:{'Name':\"Thinking strategically: the competitive edge in business, politics and everyday life\", 'Author':\"Avinash K. Dixit & \" \"Barry J. Nalebuff\", 'Pages':384, 'Format': \"Ebook\"}\n",
    "                 , 18:{'Name':\"Noise trading and illusory corrections in the US equity markets\", 'Author':\"Jennifer C. Bender & \" \"Carol L. Osler & \" \"David Simon\", 'Pages':47, 'Format': \"Online\"}\n",
    "                }"
   ]
  },
  {
   "cell_type": "code",
   "execution_count": null,
   "id": "a39bf4bf",
   "metadata": {
    "execution": {
     "iopub.execute_input": "2022-12-31T23:31:15.470850Z",
     "iopub.status.busy": "2022-12-31T23:31:15.470508Z",
     "iopub.status.idle": "2022-12-31T23:31:15.500144Z",
     "shell.execute_reply": "2022-12-31T23:31:15.499096Z"
    },
    "papermill": {
     "duration": 0.036437,
     "end_time": "2022-12-31T23:31:15.503193",
     "exception": false,
     "start_time": "2022-12-31T23:31:15.466756",
     "status": "completed"
    },
    "tags": []
   },
   "outputs": [],
   "source": [
    "BL21 = pd.DataFrame(book_list2021).transpose()\n",
    "BL21"
   ]
  },
  {
   "cell_type": "code",
   "execution_count": 60,
   "id": "914f103f",
   "metadata": {},
   "outputs": [],
   "source": [
    "sum21 = pd.DataFrame(get_book_summaries(extract_delim(BL21['Name'])))\n",
    "\n",
    "# show title with summaries\n",
    "sum21.reset_index(drop=True, inplace=True)\n",
    "sum21.style.set_properties(**{'text-align': 'left'}, inplace=True)\n",
    "sum21"
   ]
  },
  {
   "cell_type": "code",
   "execution_count": null,
   "id": "37bf8902",
   "metadata": {},
   "outputs": [],
   "source": [
    "pages_read21 = BL21['Pages'].sum()\n",
    "print(f\"Number of pages read in 2021: \\t\\t\\t\\t {format(pages_read21, ',d')} pages\")\n",
    "print(f\"Average number of pages read per month in 2021: \\t {round(pages_read21/12)} pages\")\n",
    "print(f\"Average number of pages read per day in 2021: \\t\\t {round(pages_read21/days_in_year(2021))} pages\")"
   ]
  },
  {
   "cell_type": "code",
   "execution_count": null,
   "id": "b1a9219b",
   "metadata": {
    "execution": {
     "iopub.execute_input": "2022-12-31T23:31:15.510763Z",
     "iopub.status.busy": "2022-12-31T23:31:15.510481Z",
     "iopub.status.idle": "2022-12-31T23:31:16.055615Z",
     "shell.execute_reply": "2022-12-31T23:31:16.054746Z"
    },
    "papermill": {
     "duration": 0.554264,
     "end_time": "2022-12-31T23:31:16.060688",
     "exception": false,
     "start_time": "2022-12-31T23:31:15.506424",
     "status": "completed"
    },
    "tags": []
   },
   "outputs": [],
   "source": [
    "word_string=\"\"\n",
    "\n",
    "for book in BL21['Name']:\n",
    "     word_string += book.upper() + \" \"\n",
    "\n",
    "word_cloud = WordCloud(\n",
    "     background_color='black'\n",
    "                       , scale=3, collocations=True\n",
    "                       , colormap='tab20c'\n",
    "                       , normalize_plurals=True\n",
    "                       ).generate(word_string)\n",
    "\n",
    "plt.figure(figsize = (20,6), facecolor = 'black')\n",
    "plt.imshow(word_cloud, interpolation = 'bessel')\n",
    "plt.axis('off')\n",
    "plt.title(\"2021 Reading List\", fontweight='bold', color='black', backgroundcolor='gold')\n",
    "\n",
    "plt.show()"
   ]
  },
  {
   "cell_type": "code",
   "execution_count": null,
   "id": "27ff26d5",
   "metadata": {
    "execution": {
     "iopub.execute_input": "2022-12-31T23:31:16.077745Z",
     "iopub.status.busy": "2022-12-31T23:31:16.077444Z",
     "iopub.status.idle": "2022-12-31T23:31:16.084101Z",
     "shell.execute_reply": "2022-12-31T23:31:16.083123Z"
    },
    "papermill": {
     "duration": 0.017332,
     "end_time": "2022-12-31T23:31:16.086159",
     "exception": false,
     "start_time": "2022-12-31T23:31:16.068827",
     "status": "completed"
    },
    "tags": []
   },
   "outputs": [],
   "source": [
    "book_list2022 = {1:{'Name':\"The subtle art of not giving a F*ck\", 'Author':\"Mark Manson\", 'Pages':206, 'Format': \"Ebook\"}\n",
    "                 , 2:{'Name':\"Why we sleep; unlocking the power of sleep and dreams\", 'Author':\"Mathew Walker\", 'Pages':323, 'Format': \"Ebook\"}\n",
    "                 , 3:{'Name':\"Ingredients: the strange chemistry of what we put in and on us\", 'Author':\"Goerge Zaidan\", 'Pages':299, 'Format': \"Print\"}\n",
    "                 , 4:{'Name':\"We should all be millionaires: A woman's guide to earning more, building wealth, and gaining economic power\", 'Author':\"Rachel Rodgers\", 'Pages':276, 'Format': \"Ebook\"}\n",
    "                 , 5:{'Name':\"The five love languages\", 'Author':\"Gary Chapman\", 'Pages':272, 'Format': \"Audiobook\"}\n",
    "                 , 6:{'Name':\"The art of saying NO\", 'Author':\"Damon Zahariades\", 'Pages':160, 'Format': \"Ebook\"}\n",
    "                 , 7:{'Name':\"If you had controlling parents: How to make peace with your past and take your place in the world\", 'Author':\"Dan Neuharth\", 'Pages':274, 'Format': \"Ebook\"}\n",
    "                 , 8:{'Name':\"Abundance beyond trauma: Discovering the courage for change and commitment to yourself\", 'Author':\"Jeannine L. Rashidi\", 'Pages':169, 'Format': \"Ebook\"}\n",
    "                 , 9:{'Name':\"Dear Girl\", 'Author':\"Amy Krouse Rosenthal & \" \"Paris Rosenthal\", 'Pages':40, 'Format': \"Print\"}\n",
    "                }"
   ]
  },
  {
   "cell_type": "code",
   "execution_count": null,
   "id": "5c2fca63",
   "metadata": {
    "execution": {
     "iopub.execute_input": "2022-12-31T23:31:16.102796Z",
     "iopub.status.busy": "2022-12-31T23:31:16.101951Z",
     "iopub.status.idle": "2022-12-31T23:31:16.113084Z",
     "shell.execute_reply": "2022-12-31T23:31:16.112410Z"
    },
    "papermill": {
     "duration": 0.021219,
     "end_time": "2022-12-31T23:31:16.114875",
     "exception": false,
     "start_time": "2022-12-31T23:31:16.093656",
     "status": "completed"
    },
    "tags": []
   },
   "outputs": [],
   "source": [
    "BL22 = pd.DataFrame(book_list2022).transpose()\n",
    "BL22"
   ]
  },
  {
   "cell_type": "code",
   "execution_count": null,
   "id": "90f8e0eb",
   "metadata": {},
   "outputs": [],
   "source": [
    "sum22 = pd.DataFrame(get_book_summaries(extract_delim(BL22['Name'])))\n",
    "\n",
    "# show title with summaries\n",
    "sum22.reset_index(drop=True, inplace=True)\n",
    "sum22.style.set_properties(**{'text-align': 'left'}, inplace=True)\n",
    "sum22"
   ]
  },
  {
   "cell_type": "code",
   "execution_count": null,
   "id": "2a86e5da",
   "metadata": {},
   "outputs": [],
   "source": [
    "pages_read22 = BL22['Pages'].sum()\n",
    "print(f\"Number of pages read in 2022: \\t\\t\\t\\t {format(pages_read22, ',d')} pages\")\n",
    "print(f\"Average number of pages read per month in 2022: \\t {round(pages_read22/12)} pages\")\n",
    "print(f\"Average number of pages read per day in 2022: \\t\\t {round(pages_read22/days_in_year(2022))} pages\")"
   ]
  },
  {
   "cell_type": "code",
   "execution_count": null,
   "id": "f25a7c41",
   "metadata": {
    "execution": {
     "iopub.execute_input": "2022-12-31T23:31:16.131462Z",
     "iopub.status.busy": "2022-12-31T23:31:16.131039Z",
     "iopub.status.idle": "2022-12-31T23:31:16.562889Z",
     "shell.execute_reply": "2022-12-31T23:31:16.561980Z"
    },
    "papermill": {
     "duration": 0.44309,
     "end_time": "2022-12-31T23:31:16.565784",
     "exception": false,
     "start_time": "2022-12-31T23:31:16.122694",
     "status": "completed"
    },
    "tags": []
   },
   "outputs": [],
   "source": [
    "word_string=\"\"\n",
    "\n",
    "for book in BL22['Name']:\n",
    "     word_string += book.upper() + \" \"\n",
    "\n",
    "word_cloud = WordCloud(background_color='black',scale=3, normalize_plurals = True).generate_from_text(word_string)\n",
    "\n",
    "plt.figure(figsize = (20,6), facecolor='black')\n",
    "plt.imshow(word_cloud, interpolation = 'spline36')\n",
    "plt.axis('off')\n",
    "plt.title(\"2022 Reading List\", fontweight='bold', color='black', backgroundcolor='gold')\n",
    "\n",
    "plt.show()"
   ]
  },
  {
   "cell_type": "code",
   "execution_count": null,
   "id": "9293ac8c",
   "metadata": {},
   "outputs": [],
   "source": [
    "book_list2023 = {\"Name\":\n",
    "    [\"The 7 habits of highly effective people\"\n",
    "     ,\"Why your weirdness is wonderful: Embrace your quirks and live your strengths\"\n",
    "     ,\"Be Quiet!\"\n",
    "     ,\"Red Riding Hood\"\n",
    "     ,\"Storytelling with data a visualization guide for business professionals\"\n",
    "     ,\"Learning SQL: Generating, Manipulating and Retrieving Data\"]\n",
    "                 , \"Author\":\n",
    "    [\"Stephen R. Covey\"\n",
    "    ,\"Laurie Wallin\"\n",
    "    ,\"Ryan T. Higgins\"\n",
    "    ,\"Lydia L. Very\"\n",
    "    ,\"Cole Nussbaumer Knaflic\"\n",
    "    ,\"Alan Beaulieu\"]\n",
    "                 , \"Pages\":[556\n",
    "                            , 193\n",
    "                            , 22\n",
    "                            , 53\n",
    "                            , 255\n",
    "                            , 610]\n",
    "                 , \"Format\": [\"Ebook\"\n",
    "                              , \"Ebook\"\n",
    "                              , \"Ebook\"\n",
    "                              , \"Ebook\"\n",
    "                              , \"Print\"\n",
    "                              , \"Audiobook\"]\n",
    "                 }"
   ]
  },
  {
   "cell_type": "code",
   "execution_count": null,
   "id": "f700d924",
   "metadata": {},
   "outputs": [],
   "source": [
    "BL23 = pd.DataFrame(book_list2023)\n",
    "BL23.index = BL23.index + 1\n",
    "BL23"
   ]
  },
  {
   "cell_type": "code",
   "execution_count": null,
   "id": "329d46a0",
   "metadata": {},
   "outputs": [],
   "source": [
    "sum23 = pd.DataFrame(get_book_summaries(extract_delim(BL23['Name'])))\n",
    "\n",
    "# show title with summaries\n",
    "sum23.reset_index(drop=True, inplace=True)\n",
    "sum23.style.set_properties(**{'text-align': 'left'})\n",
    "sum23"
   ]
  },
  {
   "cell_type": "code",
   "execution_count": null,
   "id": "e6e86f68",
   "metadata": {},
   "outputs": [],
   "source": [
    "pages_read23 = BL23['Pages'].sum()\n",
    "print(f\"Number of pages read in 2023: \\t\\t\\t\\t {format(pages_read23, ',d')} pages\")\n",
    "print(f\"Average number of pages read per month in 2023: \\t {round(pages_read23/12)} pages\")\n",
    "print(f\"Average number of pages read per day in 2023: \\t\\t {round(pages_read23/days_in_year(2023))} pages\")"
   ]
  },
  {
   "cell_type": "code",
   "execution_count": null,
   "id": "fecb9b81",
   "metadata": {},
   "outputs": [],
   "source": [
    "word_string=\"\"\n",
    "\n",
    "for book in BL23['Name']:\n",
    "     word_string += book.upper() + \" \"\n",
    "\n",
    "word_cloud = WordCloud(background_color='black',scale=3, normalize_plurals = True).generate_from_text(word_string)\n",
    "\n",
    "plt.figure(figsize = (20,6), facecolor='black')\n",
    "plt.imshow(word_cloud, interpolation = 'lanczos')\n",
    "# 'antialiased', 'none', 'nearest', 'bilinear', 'bicubic', 'spline16', 'spline36', 'hanning', 'hamming', 'hermite', 'kaiser', 'quadric', 'catrom', 'gaussian', 'bessel', 'mitchell', 'sinc', 'lanczos', 'blackman'\n",
    "plt.axis('off')\n",
    "plt.title(\"2023 Reading List\", fontweight='bold', color='black', backgroundcolor='gold')\n",
    "\n",
    "plt.show()"
   ]
  },
  {
   "cell_type": "code",
   "execution_count": null,
   "id": "36346de6",
   "metadata": {},
   "outputs": [],
   "source": [
    "BL21['Year Read'] = 2021\n",
    "BL22['Year Read'] = 2022\n",
    "BL23['Year Read'] = 2023"
   ]
  },
  {
   "cell_type": "code",
   "execution_count": null,
   "id": "14524abc",
   "metadata": {
    "execution": {
     "iopub.execute_input": "2022-12-31T23:31:16.589862Z",
     "iopub.status.busy": "2022-12-31T23:31:16.589269Z",
     "iopub.status.idle": "2022-12-31T23:31:16.611973Z",
     "shell.execute_reply": "2022-12-31T23:31:16.611074Z"
    },
    "papermill": {
     "duration": 0.036373,
     "end_time": "2022-12-31T23:31:16.614005",
     "exception": false,
     "start_time": "2022-12-31T23:31:16.577632",
     "status": "completed"
    },
    "tags": []
   },
   "outputs": [],
   "source": [
    "comb_list = pd.concat([BL21, BL22, BL23]).sort_values(by='Name').set_index([pd.Index(range(1, len(BL21) + len(BL22) + len(BL23) + 1))])\n",
    "comb_list"
   ]
  },
  {
   "cell_type": "code",
   "execution_count": null,
   "id": "fa28e4ef",
   "metadata": {
    "execution": {
     "iopub.execute_input": "2022-12-31T23:31:16.638385Z",
     "iopub.status.busy": "2022-12-31T23:31:16.637840Z",
     "iopub.status.idle": "2022-12-31T23:31:16.999843Z",
     "shell.execute_reply": "2022-12-31T23:31:16.998969Z"
    },
    "papermill": {
     "duration": 0.377803,
     "end_time": "2022-12-31T23:31:17.003373",
     "exception": false,
     "start_time": "2022-12-31T23:31:16.625570",
     "status": "completed"
    },
    "tags": []
   },
   "outputs": [],
   "source": [
    "word_string=\"\"\n",
    "\n",
    "for book in comb_list['Name']:\n",
    "     word_string += book.upper() + \" \"\n",
    "\n",
    "word_cloud = WordCloud(background_color='black',scale=3, collocations=True, colormap='tab20c', normalize_plurals=True).generate_from_text(word_string)\n",
    "\n",
    "plt.figure(figsize = (20,10), facecolor=(0,0,0,0.49))\n",
    "plt.imshow(word_cloud)\n",
    "plt.axis('off')\n",
    "plt.title(\"Combined Reading List\", fontweight='bold', color='gold', backgroundcolor='black', fontsize=15)\n",
    "\n",
    "plt.show()"
   ]
  },
  {
   "cell_type": "code",
   "execution_count": null,
   "id": "30b1058e",
   "metadata": {},
   "outputs": [],
   "source": [
    "print('Key Words in Book Titles')\n",
    "comb_list[comb_list['Name'].str.contains(\n",
    "    'power| abundance| heal| habit| time| invest| change| grow| trauma| discipline| courage'\n",
    "    , case=False)]"
   ]
  },
  {
   "cell_type": "code",
   "execution_count": null,
   "id": "035a26e1",
   "metadata": {},
   "outputs": [],
   "source": [
    "# Save file as CSV to create a power BI dashboard\n",
    "labels = ['Short', 'Medium', 'Long']\n",
    "bins = [0, 200, 280, 1000]\n",
    "comb_list['Bin'] = pd.cut(comb_list['Pages'], bins=bins, labels=labels)\n",
    "\n",
    "comb_list.sort_values(by=['Bin', 'Pages', 'Name'], ascending=True)\n",
    "# comb_list.to_csv('reading_list.csv')"
   ]
  }
 ],
 "metadata": {
  "kernelspec": {
   "display_name": "base",
   "language": "python",
   "name": "python3"
  },
  "language_info": {
   "codemirror_mode": {
    "name": "ipython",
    "version": 3
   },
   "file_extension": ".py",
   "mimetype": "text/x-python",
   "name": "python",
   "nbconvert_exporter": "python",
   "pygments_lexer": "ipython3",
   "version": "3.9.7"
  },
  "papermill": {
   "default_parameters": {},
   "duration": 13.060504,
   "end_time": "2022-12-31T23:31:17.597544",
   "environment_variables": {},
   "exception": null,
   "input_path": "__notebook__.ipynb",
   "output_path": "__notebook__.ipynb",
   "parameters": {},
   "start_time": "2022-12-31T23:31:04.537040",
   "version": "2.3.4"
  },
  "vscode": {
   "interpreter": {
    "hash": "858a8b4d1770dc23c2ddcfb3ad3a5af430d3a660119c465075a847110e42b348"
   }
  }
 },
 "nbformat": 4,
 "nbformat_minor": 5
}
