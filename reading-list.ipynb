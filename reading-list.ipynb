{
 "cells": [
  {
   "cell_type": "code",
   "execution_count": null,
   "id": "5c9763d9",
   "metadata": {
    "execution": {
     "iopub.execute_input": "2022-12-31T23:31:15.365275Z",
     "iopub.status.busy": "2022-12-31T23:31:15.364186Z",
     "iopub.status.idle": "2022-12-31T23:31:15.442948Z",
     "shell.execute_reply": "2022-12-31T23:31:15.441954Z"
    },
    "papermill": {
     "duration": 0.086673,
     "end_time": "2022-12-31T23:31:15.445414",
     "exception": false,
     "start_time": "2022-12-31T23:31:15.358741",
     "status": "completed"
    },
    "tags": []
   },
   "outputs": [],
   "source": [
    "# IMPORT PACKAGES FOR PROJECT\n",
    "\n",
    "# !pip install wordcloud, pandas, matplotlib, PIL\n",
    "from wordcloud import WordCloud, STOPWORDS\n",
    "import pandas as pd\n",
    "import matplotlib.pyplot as plt"
   ]
  },
  {
   "cell_type": "code",
   "execution_count": null,
   "id": "e05f985b",
   "metadata": {
    "execution": {
     "iopub.execute_input": "2022-12-31T23:31:15.453021Z",
     "iopub.status.busy": "2022-12-31T23:31:15.452746Z",
     "iopub.status.idle": "2022-12-31T23:31:15.461830Z",
     "shell.execute_reply": "2022-12-31T23:31:15.460761Z"
    },
    "papermill": {
     "duration": 0.015414,
     "end_time": "2022-12-31T23:31:15.464015",
     "exception": false,
     "start_time": "2022-12-31T23:31:15.448601",
     "status": "completed"
    },
    "tags": []
   },
   "outputs": [],
   "source": [
    "book_list2021 = {1:{'Name':\"The richest man in Babylon\", 'Author':\"George S. Clason\", 'Pages':224}\n",
    "                 , 2:{'Name':\"The slight edge\", 'Author':\"Jeff Olson\", 'Pages':280}\n",
    "                 , 3:{'Name':\"Intermittent fasting basics\", 'Author':\"Lindsay Boyers\", 'Pages':219}\n",
    "                 , 4:{'Name':\"The one thing\", 'Author':\"Gary Keller\", 'Pages':240}\n",
    "                 , 5:{'Name':\"Who moved my cheese\", 'Author':\"Spencer Johnson\", 'Pages':94}\n",
    "                 , 6:{'Name':\"Think and grow rich\", 'Author':\"Napoleon Hill\", 'Pages':290}\n",
    "                 , 7:{'Name':\"Outwitting the devil: The secret to freedom and success\", 'Author':\"Napoleon Hill\", 'Pages':302}\n",
    "                 , 8:{'Name':\"The four agreements\", 'Author':\"Don Miquel Ruiz\", 'Pages':140}\n",
    "                 , 9:{'Name':\"Atomic habits\", 'Author':\"James Clear\", 'Pages':298}\n",
    "                 , 10:{'Name':\"How to win friends and influence people\", 'Author':\"Dale Carnegie\", 'Pages':250}\n",
    "                 , 11:{'Name':\"Trading in the zone\", 'Author':\"Mark Douglas\", 'Pages':207}\n",
    "                 , 12:{'Name':\"Stone soup\", 'Author':\"Marcia Brown\", 'Pages':52}\n",
    "                 , 13:{'Name':\"Rich dad's cashflow quadrant\", 'Author':\"Robert T. Kiyosaki\", 'Pages':282}\n",
    "                 , 14:{'Name':\"A beginners guide to the stock market\", 'Author':\"Mathew R. Kratter\", 'Pages':100}\n",
    "                 , 15:{'Name':\"Credit spread options for beginners\", 'Author':\"Freeman Publications\", 'Pages':134}\n",
    "                 , 16:{'Name':\"Heart sick: Connecting the dots between hope, disappointment and healing\", 'Author':\"Conscious Core\", 'Pages':107}\n",
    "                 , 17:{'Name':\"Thinking strategically: the competitive edge in business, politics and everyday life\", 'Author':\"Avinash K. Dixit & \" \"Barry J. Nalebuff\", 'Pages':384}\n",
    "                 , 18:{'Name':\"Noise trading and illusory corrections in the US equity markets\", 'Author':\"Jennifer C. Bender & \" \"Carol L. Osler & \" \"David Simon\", 'Pages':47}\n",
    "                }"
   ]
  },
  {
   "cell_type": "code",
   "execution_count": null,
   "id": "a39bf4bf",
   "metadata": {
    "execution": {
     "iopub.execute_input": "2022-12-31T23:31:15.470850Z",
     "iopub.status.busy": "2022-12-31T23:31:15.470508Z",
     "iopub.status.idle": "2022-12-31T23:31:15.500144Z",
     "shell.execute_reply": "2022-12-31T23:31:15.499096Z"
    },
    "papermill": {
     "duration": 0.036437,
     "end_time": "2022-12-31T23:31:15.503193",
     "exception": false,
     "start_time": "2022-12-31T23:31:15.466756",
     "status": "completed"
    },
    "tags": []
   },
   "outputs": [],
   "source": [
    "BL21 = pd.DataFrame(book_list2021).transpose()\n",
    "BL21"
   ]
  },
  {
   "cell_type": "code",
   "execution_count": null,
   "id": "37bf8902",
   "metadata": {},
   "outputs": [],
   "source": [
    "pages_read21 = BL21['Pages'].sum()\n",
    "print(f\"Number of pages read in 2021: {format(pages_read21, ',d')}\")\n",
    "print(f\"Average number of pages read per month in 2021: {round(pages_read21/12)}\")\n",
    "print(f\"Average number of pages read per day in 2021: {round(pages_read21/365)}\")"
   ]
  },
  {
   "cell_type": "code",
   "execution_count": null,
   "id": "b1a9219b",
   "metadata": {
    "execution": {
     "iopub.execute_input": "2022-12-31T23:31:15.510763Z",
     "iopub.status.busy": "2022-12-31T23:31:15.510481Z",
     "iopub.status.idle": "2022-12-31T23:31:16.055615Z",
     "shell.execute_reply": "2022-12-31T23:31:16.054746Z"
    },
    "papermill": {
     "duration": 0.554264,
     "end_time": "2022-12-31T23:31:16.060688",
     "exception": false,
     "start_time": "2022-12-31T23:31:15.506424",
     "status": "completed"
    },
    "tags": []
   },
   "outputs": [],
   "source": [
    "word_string=\"\"\n",
    "\n",
    "for book in BL21['Name']:\n",
    "     word_string += book.upper() + \" \"\n",
    "\n",
    "word_cloud = WordCloud(\n",
    "     background_color='black'\n",
    "                       , scale=3, collocations=True\n",
    "                       , colormap='tab20c'\n",
    "                       , normalize_plurals=True\n",
    "                       ).generate(word_string)\n",
    "\n",
    "plt.figure(figsize = (20,6), facecolor = 'black')\n",
    "plt.imshow(word_cloud, interpolation = 'bessel')\n",
    "plt.axis('off')\n",
    "plt.title(\"2021 Reading List\", fontweight='bold', color='black', backgroundcolor='gold')\n",
    "\n",
    "plt.show()"
   ]
  },
  {
   "cell_type": "code",
   "execution_count": null,
   "id": "27ff26d5",
   "metadata": {
    "execution": {
     "iopub.execute_input": "2022-12-31T23:31:16.077745Z",
     "iopub.status.busy": "2022-12-31T23:31:16.077444Z",
     "iopub.status.idle": "2022-12-31T23:31:16.084101Z",
     "shell.execute_reply": "2022-12-31T23:31:16.083123Z"
    },
    "papermill": {
     "duration": 0.017332,
     "end_time": "2022-12-31T23:31:16.086159",
     "exception": false,
     "start_time": "2022-12-31T23:31:16.068827",
     "status": "completed"
    },
    "tags": []
   },
   "outputs": [],
   "source": [
    "book_list2022 = {1:{'Name':\"The subtle art of not giving a F*ck\", 'Author':\"Mark Manson\", 'Pages':206}\n",
    "                 , 2:{'Name':\"Why we sleep; unlocking the power of sleep and dreams\", 'Author':\"Mathew Walker\", 'Pages':323}\n",
    "                 , 3:{'Name':\"Ingredients: the strange chemistry of what we put in and on us\", 'Author':\"Goerge Zaidan\", 'Pages':299}\n",
    "                 , 4:{'Name':\"We should all be millionaires: A woman's guide to earning more, building wealth, and gaining economic power\", 'Author':\"Rachel Rodgers\", 'Pages':276}\n",
    "                 , 5:{'Name':\"The five love languages\", 'Author':\"Gary Chapman\", 'Pages':272}\n",
    "                 , 6:{'Name':\"The art of saying NO\", 'Author':\"Damon Zahariades\", 'Pages':160}\n",
    "                 , 7:{'Name':\"If you had controlling parents: How to make peace with your past and take your place in the world\", 'Author':\"Dan Neuharth\", 'Pages':274}\n",
    "                 , 8:{'Name':\"Abundance beyond trauma: Discovering the courage for change and commitment to yourself\", 'Author':\"Jeannine L. Rashidi\", 'Pages':169}\n",
    "                 , 9:{'Name':\"Dear Girl\", 'Author':\"Amy Krouse Rosenthal & \" \"Paris Rosenthal\", 'Pages':40}\n",
    "                }"
   ]
  },
  {
   "cell_type": "code",
   "execution_count": null,
   "id": "5c2fca63",
   "metadata": {
    "execution": {
     "iopub.execute_input": "2022-12-31T23:31:16.102796Z",
     "iopub.status.busy": "2022-12-31T23:31:16.101951Z",
     "iopub.status.idle": "2022-12-31T23:31:16.113084Z",
     "shell.execute_reply": "2022-12-31T23:31:16.112410Z"
    },
    "papermill": {
     "duration": 0.021219,
     "end_time": "2022-12-31T23:31:16.114875",
     "exception": false,
     "start_time": "2022-12-31T23:31:16.093656",
     "status": "completed"
    },
    "tags": []
   },
   "outputs": [],
   "source": [
    "BL22 = pd.DataFrame(book_list2022).transpose()\n",
    "BL22"
   ]
  },
  {
   "cell_type": "code",
   "execution_count": null,
   "id": "2a86e5da",
   "metadata": {},
   "outputs": [],
   "source": [
    "pages_read22 = BL22['Pages'].sum()\n",
    "print(f\"Number of pages read in 2022: {format(pages_read22, ',d')}\")\n",
    "print(f\"Average number of pages read per month in 2022: {round(pages_read22/12)}\")\n",
    "print(f\"Average number of pages read per day in 2022: {round(pages_read22/365)}\")"
   ]
  },
  {
   "cell_type": "code",
   "execution_count": null,
   "id": "f25a7c41",
   "metadata": {
    "execution": {
     "iopub.execute_input": "2022-12-31T23:31:16.131462Z",
     "iopub.status.busy": "2022-12-31T23:31:16.131039Z",
     "iopub.status.idle": "2022-12-31T23:31:16.562889Z",
     "shell.execute_reply": "2022-12-31T23:31:16.561980Z"
    },
    "papermill": {
     "duration": 0.44309,
     "end_time": "2022-12-31T23:31:16.565784",
     "exception": false,
     "start_time": "2022-12-31T23:31:16.122694",
     "status": "completed"
    },
    "tags": []
   },
   "outputs": [],
   "source": [
    "word_string=\"\"\n",
    "\n",
    "for book in BL22['Name']:\n",
    "     word_string += book.upper() + \" \"\n",
    "\n",
    "word_cloud = WordCloud(background_color='black',scale=3, normalize_plurals = True).generate_from_text(word_string)\n",
    "\n",
    "plt.figure(figsize = (20,6), facecolor='black')\n",
    "plt.imshow(word_cloud, interpolation = 'catrom')\n",
    "plt.axis('off')\n",
    "plt.title(\"2022 Reading List\", fontweight='bold', color='black', backgroundcolor='gold')\n",
    "\n",
    "plt.show()"
   ]
  },
  {
   "cell_type": "code",
   "execution_count": null,
   "id": "9293ac8c",
   "metadata": {},
   "outputs": [],
   "source": [
    "book_list2023 = {\"Name\":\n",
    "    [\"The 7 habits of highly effective people\"\n",
    "     ,\"Why your weirdness is wonderful: Embrace your quirks and live your strengths\"]\n",
    "                 , \"Author\":[\"Stephen R. Covey\",\"Laurie Wallin\"]\n",
    "                 , \"Pages\":[556,193]\n",
    "                 }"
   ]
  },
  {
   "cell_type": "code",
   "execution_count": null,
   "id": "f700d924",
   "metadata": {},
   "outputs": [],
   "source": [
    "BL23 = pd.DataFrame(book_list2023)\n",
    "BL23.index = BL23.index + 1\n",
    "BL23"
   ]
  },
  {
   "cell_type": "code",
   "execution_count": null,
   "id": "e6e86f68",
   "metadata": {},
   "outputs": [],
   "source": [
    "pages_read23 = BL23['Pages'].sum()\n",
    "print(f\"Number of pages read in 2023: {format(pages_read23, ',d')}\")\n",
    "print(f\"Average number of pages read per month in 2023: {round(pages_read23/12)}\")\n",
    "print(f\"Average number of pages read per day in 2023: {round(pages_read23/365)}\")"
   ]
  },
  {
   "cell_type": "code",
   "execution_count": null,
   "id": "fecb9b81",
   "metadata": {},
   "outputs": [],
   "source": [
    "word_string=\"\"\n",
    "\n",
    "for book in BL23['Name']:\n",
    "     word_string += book.upper() + \" \"\n",
    "\n",
    "word_cloud = WordCloud(background_color='black',scale=3, normalize_plurals = True).generate_from_text(word_string)\n",
    "\n",
    "plt.figure(figsize = (20,6), facecolor='black')\n",
    "plt.imshow(word_cloud, interpolation = 'quadric')\n",
    "# 'antialiased', 'none', 'nearest', 'bilinear', 'bicubic', 'spline16', 'spline36', 'hanning', 'hamming', 'hermite', 'kaiser', 'quadric', 'catrom', 'gaussian', 'bessel', 'mitchell', 'sinc', 'lanczos', 'blackman'\n",
    "plt.axis('off')\n",
    "plt.title(\"2023 Reading List\", fontweight='bold', color='black', backgroundcolor='gold')\n",
    "\n",
    "plt.show()"
   ]
  },
  {
   "cell_type": "code",
   "execution_count": null,
   "id": "36346de6",
   "metadata": {},
   "outputs": [],
   "source": [
    "BL21['Year Read'] = 2021\n",
    "BL22['Year Read'] = 2022\n",
    "BL23['Year Read'] = 2023"
   ]
  },
  {
   "cell_type": "code",
   "execution_count": null,
   "id": "14524abc",
   "metadata": {
    "execution": {
     "iopub.execute_input": "2022-12-31T23:31:16.589862Z",
     "iopub.status.busy": "2022-12-31T23:31:16.589269Z",
     "iopub.status.idle": "2022-12-31T23:31:16.611973Z",
     "shell.execute_reply": "2022-12-31T23:31:16.611074Z"
    },
    "papermill": {
     "duration": 0.036373,
     "end_time": "2022-12-31T23:31:16.614005",
     "exception": false,
     "start_time": "2022-12-31T23:31:16.577632",
     "status": "completed"
    },
    "tags": []
   },
   "outputs": [],
   "source": [
    "comb_list = pd.concat([BL21, BL22, BL23]).sort_values(by='Name').set_index([pd.Index(range(1, len(BL21) + len(BL22) + len(BL23) + 1))])\n",
    "comb_list"
   ]
  },
  {
   "cell_type": "code",
   "execution_count": null,
   "id": "fa28e4ef",
   "metadata": {
    "execution": {
     "iopub.execute_input": "2022-12-31T23:31:16.638385Z",
     "iopub.status.busy": "2022-12-31T23:31:16.637840Z",
     "iopub.status.idle": "2022-12-31T23:31:16.999843Z",
     "shell.execute_reply": "2022-12-31T23:31:16.998969Z"
    },
    "papermill": {
     "duration": 0.377803,
     "end_time": "2022-12-31T23:31:17.003373",
     "exception": false,
     "start_time": "2022-12-31T23:31:16.625570",
     "status": "completed"
    },
    "tags": []
   },
   "outputs": [],
   "source": [
    "word_string=\"\"\n",
    "\n",
    "for book in comb_list['Name']:\n",
    "     word_string += book.upper() + \" \"\n",
    "\n",
    "word_cloud = WordCloud(background_color='black',scale=3, collocations=True, colormap='tab20c', normalize_plurals=True).generate_from_text(word_string)\n",
    "\n",
    "plt.figure(figsize = (20,10), facecolor=(0,0,0,0.49))\n",
    "plt.imshow(word_cloud)\n",
    "plt.axis('off')\n",
    "plt.title(\"Combined Reading List\", fontweight='bold', color='gold', backgroundcolor='black', fontsize=15)\n",
    "\n",
    "plt.show()"
   ]
  },
  {
   "cell_type": "code",
   "execution_count": null,
   "id": "30b1058e",
   "metadata": {},
   "outputs": [],
   "source": [
    "print('Key Words in Book Titles')\n",
    "comb_list[comb_list['Name'].str.contains(\n",
    "    'power| abundance| heal| you| habit| time| invest| change| grow| trauma'\n",
    "    , case=False)]"
   ]
  },
  {
   "cell_type": "code",
   "execution_count": null,
   "id": "035a26e1",
   "metadata": {},
   "outputs": [],
   "source": [
    "# Save file as CSV to create a power BI dashboard\n",
    "labels = ['Short', 'Medium', 'Long']\n",
    "bins = [0,200,280,1000]\n",
    "comb_list['Bin'] = pd.cut(comb_list['Pages'], bins=bins, labels=labels)\n",
    "\n",
    "# comb_list.to_csv('reading_list.csv')"
   ]
  }
 ],
 "metadata": {
  "kernelspec": {
   "display_name": "base",
   "language": "python",
   "name": "python3"
  },
  "language_info": {
   "codemirror_mode": {
    "name": "ipython",
    "version": 3
   },
   "file_extension": ".py",
   "mimetype": "text/x-python",
   "name": "python",
   "nbconvert_exporter": "python",
   "pygments_lexer": "ipython3",
   "version": "3.9.7"
  },
  "papermill": {
   "default_parameters": {},
   "duration": 13.060504,
   "end_time": "2022-12-31T23:31:17.597544",
   "environment_variables": {},
   "exception": null,
   "input_path": "__notebook__.ipynb",
   "output_path": "__notebook__.ipynb",
   "parameters": {},
   "start_time": "2022-12-31T23:31:04.537040",
   "version": "2.3.4"
  },
  "vscode": {
   "interpreter": {
    "hash": "858a8b4d1770dc23c2ddcfb3ad3a5af430d3a660119c465075a847110e42b348"
   }
  }
 },
 "nbformat": 4,
 "nbformat_minor": 5
}
